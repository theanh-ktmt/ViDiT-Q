{
 "cells": [
  {
   "cell_type": "code",
   "execution_count": null,
   "metadata": {},
   "outputs": [],
   "source": [
    "import yaml\n",
    "with open('./w4a8_0/t20_weight_4_mp.yaml', 'r') as f:\n",
    "    time_mp_config = yaml.safe_load(f)\n"
   ]
  },
  {
   "cell_type": "code",
   "execution_count": null,
   "metadata": {},
   "outputs": [],
   "source": [
    "time_mp_config"
   ]
  },
  {
   "cell_type": "code",
   "execution_count": 6,
   "metadata": {},
   "outputs": [],
   "source": [
    "for layer, bit in time_mp_config['14-10'].items():\n",
    "    time_mp_config['14-10'][layer] = 4\n",
    "\n",
    "with open('./w4a8_0/t20_weight_4_mp.yaml', 'w') as f:\n",
    "        yaml.dump(time_mp_config, f)"
   ]
  }
 ],
 "metadata": {
  "kernelspec": {
   "display_name": "Python 3.10.14 ('opensora')",
   "language": "python",
   "name": "python3"
  },
  "language_info": {
   "codemirror_mode": {
    "name": "ipython",
    "version": 3
   },
   "file_extension": ".py",
   "mimetype": "text/x-python",
   "name": "python",
   "nbconvert_exporter": "python",
   "pygments_lexer": "ipython3",
   "version": "3.10.14"
  },
  "orig_nbformat": 4,
  "vscode": {
   "interpreter": {
    "hash": "576f8ce4009a7359c8df80394f23fe42472c03419f491b0fbc7ff6f955e5a3db"
   }
  }
 },
 "nbformat": 4,
 "nbformat_minor": 2
}
